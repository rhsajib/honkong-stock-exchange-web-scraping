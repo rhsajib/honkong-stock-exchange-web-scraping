{
  "nbformat": 4,
  "nbformat_minor": 0,
  "metadata": {
    "colab": {
      "provenance": []
    },
    "kernelspec": {
      "name": "python3",
      "display_name": "Python 3"
    },
    "language_info": {
      "name": "python"
    }
  },
  "cells": [
    {
      "cell_type": "code",
      "execution_count": 204,
      "metadata": {
        "id": "KVSE1_Qxcq2i"
      },
      "outputs": [],
      "source": [
        "import pandas as pd\n",
        "from bs4 import BeautifulSoup\n",
        "import requests\n",
        "import os"
      ]
    },
    {
      "cell_type": "code",
      "source": [
        "# function to create soup\n",
        "def create_soup(url):\n",
        "    response = requests.get(url)\n",
        "    soup     = BeautifulSoup(response.content, 'html.parser')\n",
        "    return soup\n"
      ],
      "metadata": {
        "id": "crufjxpNdu-G"
      },
      "execution_count": 205,
      "outputs": []
    },
    {
      "cell_type": "code",
      "source": [
        "url = 'https://www.hkex.com.hk/eng/stat/smstat/dayquot/d220608e.htm#dealings_suspstocks'\n",
        "\n",
        "# creating soup\n",
        "soup = create_soup(url)"
      ],
      "metadata": {
        "id": "69rX6hqHex1R"
      },
      "execution_count": 206,
      "outputs": []
    },
    {
      "cell_type": "code",
      "source": [
        "# required texts are inside 'font' tags\n",
        "# getting all texts\n",
        "all_texts = soup.find_all('font', attrs = {'size' : '1'})"
      ],
      "metadata": {
        "id": "T208mk8Le4U3"
      },
      "execution_count": 207,
      "outputs": []
    },
    {
      "cell_type": "code",
      "source": [
        "# let's check type of it\n",
        "type(all_texts)"
      ],
      "metadata": {
        "colab": {
          "base_uri": "https://localhost:8080/"
        },
        "id": "x_TbVDYcqtz8",
        "outputId": "8387eaad-87be-4b53-9ab5-e476c9ef05b1"
      },
      "execution_count": 208,
      "outputs": [
        {
          "output_type": "execute_result",
          "data": {
            "text/plain": [
              "bs4.element.ResultSet"
            ]
          },
          "metadata": {},
          "execution_count": 208
        }
      ]
    },
    {
      "cell_type": "code",
      "source": [
        "# let's check length of it\n",
        "len(all_texts)"
      ],
      "metadata": {
        "colab": {
          "base_uri": "https://localhost:8080/"
        },
        "id": "4wNd8bHogN-n",
        "outputId": "46c43e89-ecaa-4ad4-fc6b-c81a527c068b"
      },
      "execution_count": 209,
      "outputs": [
        {
          "output_type": "execute_result",
          "data": {
            "text/plain": [
              "814"
            ]
          },
          "metadata": {},
          "execution_count": 209
        }
      ]
    },
    {
      "cell_type": "code",
      "source": [
        "# slicing QUOTATIONS from all_texts\n",
        "quotations = all_texts[:112]"
      ],
      "metadata": {
        "id": "Kc3yosrmq9C6"
      },
      "execution_count": 210,
      "outputs": []
    },
    {
      "cell_type": "code",
      "source": [
        "# try len(quotations)\n",
        "# try quotations[0]\n",
        "# try quotations[-1]"
      ],
      "metadata": {
        "id": "fSgvDv0FsxOj"
      },
      "execution_count": 211,
      "outputs": []
    },
    {
      "cell_type": "code",
      "source": [
        "# first item and last item of the quotations list contain extra information\n",
        "# we will need to process these items\n",
        "quotations[0].text.split('QUOTATIONS')[-1]"
      ],
      "metadata": {
        "colab": {
          "base_uri": "https://localhost:8080/",
          "height": 140
        },
        "id": "FKmmHmiJz0ru",
        "outputId": "a92a29e8-092e-4adb-9e97-89aae98dbb47"
      },
      "execution_count": 212,
      "outputs": [
        {
          "output_type": "execute_result",
          "data": {
            "text/plain": [
              "\"\\r\\n\\r\\n CODE  NAME OF STOCK    CUR PRV.CLO./    ASK/    HIGH/      SHARES TRADED/\\r\\n                            CLOSING      BID     LOW        TURNOVER ($)\\r\\n\\r\\n     1 CKH HOLDINGS     HKD   54.85    54.35    55.40            5,234,462\\r\\n                              54.35    54.30    54.25          286,201,169\\r\\n     2 CLP HOLDINGS     HKD   76.95    76.55    77.30            3,374,157\\r\\n                              76.50    76.50    76.40          258,528,175\\r\\n     3 HK & CHINA GAS   HKD    8.74     8.53     8.76           30,744,940\\r\\n                               8.52     8.52     8.51          264,009,852\\r\\n     4 WHARF HOLDINGS   HKD   25.15    25.25    25.40              683,860\\r\\n                              25.25    25.20    24.95           17,249,090\\r\\n     5 HSBC HOLDINGS    HKD   51.75    51.30    52.10           20,744,261\\r\\n                              51.25    51.25    51.00        1,069,075,134\\r\\n     6 POWER ASSETS     HKD   51.35    51.15    51.70            2,443,983\\r\\n                              51.10    51.10    51.00          125,248,540\\r\\n     7 WISDOM WEALTH    HKD    0.143    0.144    0.149          10,310,000\\r\\n                               0.144    0.14     0.134           1,477,780\\r\\n     8 PCCW             HKD    4.26     4.23     4.27            6,350,876\\r\\n                               4.22     4.22     4.22           26,875,068\\r\\n     9 KEYNE LTD        HKD    0.035    0.036    0.037             132,000\\r\\n                               0.036    0.031    0.033               4,380\\r\\n    10 HANG LUNG GROUP  HKD   14.74    14.84    15.00              620,100\\r\\n                              14.80    14.80    14.76            9,234,212\\r\\n    11 HANG SENG BANK   HKD  137.70   136.90   138.60            1,602,897\\r\\n                             136.80   136.80   136.60          219,820,206\\r\\n    12 HENDERSON LAND   HKD   30.60    30.35    30.80            6,305,048\\r\\n                              30.35    30.30    30.15          191,420,834\\r\\n    13 HUTCHMED         HKD   16.86    17.38    17.50            7,621,600\\r\\n                              17.38    17.36    16.50          131,093,176\\r\\n    14 HYSAN DEV        HKD   23.70    23.75    23.90              864,246\\r\\n                              23.75    23.70    23.65           20,564,344\\r\\n    16 SHK PPT          HKD   96.25    95.60    96.80            3,719,171\\r\\n                              95.55    95.55    95.05          355,637,689\\r\\n    17 NEW WORLD DEV    HKD   30.50    30.20    30.60            3,253,961\\r\\n                              30.20    30.15    30.05           98,390,580\\r\\n    18 ORIENTAL E H     HKD    0.66     0.67     0.67               70,000\\r\\n                               0.67     0.66     0.67               46,900\\r\\n    19 SWIRE PACIFIC A  HKD   48.60    49.05    49.45            1,606,878\\r\\n                              49.05    48.95    48.75           78,763,197\\r\\n    20 SENSETIME-W      HKD    5.76     5.86     5.94           10,778,539\\r\\n                               5.85     5.85     5.80           63,138,035\\r\\n    21 GREAT CHI PPT    HKD    0.14     0.15      -                      -\\r\\n                               0.14     0.125     -                      -\\r\\n    22 MEXAN            HKD    0.097    0.098     -                      -\\r\\n                               0.097    0.09      -                      -\\r\\n    23 BANK OF E ASIA   HKD   11.50    11.44    11.60            1,000,526\\r\\n                              11.42    11.42    11.40           11,444,772\\r\\n    25 CHEVALIER INT'L  HKD    9.29     9.29      -                      -\\r\\n                               9.29     8.73      -                      -\\r\\n    26 CHINA MOTOR BUS  HKD   90.00    90.00    90.00               33,416\\r\\n                              89.60    89.10    89.00            2,999,940\\r\\n    27 GALAXY ENT       HKD   42.15    44.60    44.80           20,258,589\\r\\n                              44.55    44.55    42.25          898,875,804\\r\\n    28 TIAN AN          HKD    3.90     3.98     4.00               30,000\\r\\n                               3.98     3.97     3.98              119,460\\r\\n    29 DYNAMIC HOLD     HKD    9.29     9.55     9.60               70,000\\r\\n                               9.40     9.24     9.24              662,200\\r\\n    30 BAN LOONG HOLD   HKD    0.255    0.255    0.255             126,000\\r\\n                               0.25     0.25     0.25               32,120\\r\\n    31 CHINA AEROSPACE  HKD    0.51     0.51     0.51            2,330,000\\r\\n                               0.51     0.50     0.49            1,165,250\\r\\n    32 CROSS-HAR(HOLD)  HKD   11.20    11.20      -                      -\\r\\n                              11.20    10.92      -                      -\\r\\n    33 AMBER HILL FIN   HKD    1.94     1.99     1.84                9,000\\r\\n                               1.85     1.85     1.84               16,470\\r\\n    34 KOWLOON DEV      HKD   10.30    10.40    10.38               79,047\\r\\n                              10.38    10.30    10.28              815,464\\r\\n    35 FE CONSORT INTL  HKD    2.40     2.42     2.42            1,402,614\\r\\n                               2.41     2.41     2.40            3,386,596\\r\\n    36 FE HLDGS INTL    HKD    0.12     0.13     0.13               48,000\\r\\n                               0.13     0.122    0.13                6,240\\r\\n    37 FE HOTELS        HKD    0.89     0.90     0.91            1,446,000\\r\\n                               0.90     0.89     0.89            1,294,860\\r\\n    38 FIRST TRACTOR    HKD    3.75     3.73     3.80            2,341,300\\r\\n                               3.73     3.71     3.68            8,695,216\\r\\n    39 CH BEIDAHUANG    HKD    0.068    0.073    0.075          21,730,000\\r\\n                               0.073    0.071    0.066           1,576,898\\r\\n    40 GOLD PEAK        HKD    0.63     0.63     0.63              603,000\\r\\n                               0.63     0.61     0.61              374,050\\r\\n    41 GREAT EAGLE H    HKD   17.52    17.96    18.00              212,244\\r\\n                              17.96    17.62    17.52            3,787,867\\r\\n    42 NE ELECTRIC      HKD    0.26     0.26     0.26              668,000\\r\\n                               0.26     0.255    0.25              172,590\\r\\n    45 HK&S HOTELS      HKD    7.62     7.95     8.00            1,119,098\\r\\n                               7.93     7.93     7.65            8,840,665\\r\\n    46 COMPUTER & TECH  HKD    2.48     2.49     2.49                6,487\\r\\n                               2.48     2.45     2.49               16,186\\r\\n    48 C AUTO INT DECO  HKD    0.60     0.69     0.60               20,000\\r\\n                               0.60     0.60     0.60               12,000\\r\\n    50 HK FERRY (HOLD)  HKD    7.03     7.02     7.03               25,141\\r\\n                               7.01     7.00     7.01              176,491\\r\\n    51 HARBOUR CENTRE   HKD    7.05     6.99     6.95              192,000\\r\\n                               6.95     6.90     6.50            1,277,830\\r\\n    52 FAIRWOOD HOLD    HKD   14.16    14.08    14.16               24,672\\r\\n                              14.08    14.06    14.00              346,865\\r\\n    53 GUOCO GROUP      HKD   81.30    81.30    81.30                1,000\\r\\n                              81.30    80.55    81.30               81,300\\r\\n    55 NEWAY GROUP      HKD    0.385    0.375    0.375             100,000\\r\\n                               0.375    0.36     0.36               36,400\\r\\n    57 CHEN HSONG HOLD  HKD    2.40     2.37     2.40              130,040\\r\\n                               2.37     2.34     2.34              307,632\\r\\n    58 SUNWAY INT'L     HKD    0.16     0.19      -                  3,200\\r\\n                               0.16     0.051     -                    290\\r\\n    59 SKYFAME REALTY   HKD    0.086    0.088    0.09          309,580,000\\r\\n                               0.087    0.087    0.086          27,171,096\\r\\n    60 HK FOOD INV      HKD    0.54     0.52     0.52               58,000\\r\\n                               0.52     0.50     0.495              29,020\\r\\n    61 GREEN LEADER     HKD    0.11     0.118    0.11               43,500\\r\\n                               0.11     0.11     0.11                4,745\\r\\n    62 TRANSPORT INT'L  HKD   12.22    12.26    12.30               50,574\\r\\n                              12.26    12.22    12.20              620,125\\r\\n    63 CHI ASIA VALLEY  HKD    0.083    0.082     -                      -\\r\\n                               0.082    0.069     -                      -\\r\\n    64 GET NICE         HKD    0.157    0.157    0.157             942,000\\r\\n                               0.156    0.154    0.152             146,134\\r\\n    65 GRAND OCEAN AR   HKD    0.183    0.183    0.183             204,000\\r\\n                               0.183    0.16     0.182              37,132\\r\\n    66 MTR CORPORATION  HKD   42.30    42.20    42.55            3,423,112\\r\\n                              42.20    42.15    42.10          144,609,885\\r\\n    68 LEE HING         HKD TRADING SUSPENDED\\r\\n    69 SHANGRI-LA ASIA  HKD    6.08     6.26     6.28              786,000\\r\\n                               6.25     6.25     6.10            4,903,460\\r\\n    70 RICH GOLDMAN     HKD    0.052    0.065    0.056             430,000\\r\\n                               0.056    0.054    0.054              23,740\\r\\n    71 MIRAMAR HOTEL    HKD   14.80    14.70    14.80              284,121\\r\\n                              14.70    14.66    14.50            4,156,801\\r\\n    72 META MEDIA       HKD    0.35     0.365    0.375              82,000\\r\\n                               0.365    0.35     0.35               29,330\\r\\n    73 ASIAN CITRUS     HKD    0.10     0.11     0.10               20,000\\r\\n                               0.10     0.10     0.10                2,000\\r\\n    75 Y.T. REALTY      HKD    1.40      -        -                      -\\r\\n                               1.40     1.40      -                      -\\r\\n    76 ELATE HOLDINGS   HKD    0.033    0.033    0.033           4,276,452\\r\\n                               0.032    0.032    0.032             139,495\\r\\n    77 AMS TRANSPORT    HKD    0.68     0.72      -                      -\\r\\n                               0.68     0.68      -                      -\\r\\n    78 REGAL INT'L      HKD    3.16     3.20     3.20                7,000\\r\\n                               3.20     3.11     3.15               22,060\\r\\n    79 CENTURY LEGEND   HKD    0.125     -       0.149              36,000\\r\\n                               0.149    0.125    0.139               5,244\\r\\n    80 CNEWECON FUND    HKD    0.187    0.19     0.187              30,000\\r\\n                               0.18     0.18     0.18                5,540\\r\\n    81 CH OVS G OCEANS  HKD    4.11     4.12     4.13            1,757,315\\r\\n                               4.12     4.10     4.05            7,192,170\\r\\n    82 CRAZY SPORTS     HKD    0.30     0.315    0.325          26,715,600\\r\\n                               0.315    0.31     0.295           8,339,723\\r\\n    83 SINO LAND        HKD   11.16    11.22    11.60            5,167,849\\r\\n                              11.22    11.18    11.16           58,268,468\\r\\n    84 STELUX HOLDINGS  HKD    0.067    0.062    0.067             320,000\\r\\n                               0.063    0.06     0.063              21,215\\r\\n    85 CE HUADA TECH    HKD    0.75     0.77     0.77            2,406,000\\r\\n                               0.77     0.76     0.73            1,811,560\\r\\n    86 SUN HUNG KAI CO  HKD    3.65     3.68     3.68              580,204\\r\\n                               3.65     3.65     3.63            2,114,810\\r\\n    87 SWIRE PACIFIC B  HKD    8.01     8.10     8.15              342,677\\r\\n                               8.07     8.07     8.03            2,767,335\\r\\n    88 TAI CHEUNG HOLD  HKD    4.49     4.59     4.59               27,000\\r\\n                               4.58     4.52     4.50              122,080\\r\\n    89 TAI SANG LAND    HKD    4.09     4.30      -                     64\\r\\n                               4.09     4.03      -                    255\\r\\n    90 PUXING ENERGY    HKD    0.66     0.68     0.66              276,000\\r\\n                               0.64     0.64     0.64              174,680\\r\\n    91 GOLDEN CEN INTL  HKD    0.188    0.178    0.185             110,000\\r\\n                               0.171    0.171    0.171              19,470\\r\\n    92 CHAMPION TECH    HKD    0.077    0.079     -                  1,481\\r\\n                               0.077    0.07      -                     90\\r\\n    93 TERMBRAY IND     HKD    0.206    0.215     -                      -\\r\\n                               0.206    0.179     -                      -\\r\\n    94 GREENHEART GP    HKD    0.098    0.098    0.098              22,000\\r\\n                               0.098    0.095    0.092               2,036\\r\\n    95 LVGEM CHINA      HKD    0.87     1.26     1.36          127,192,009\\r\\n                               1.25     1.25     1.00          154,019,872\\r\\n    96 YUSEI            HKD    0.69     0.69      -                      -\\r\\n                               0.69     0.55      -                      -\\r\\n    97 HENDERSON INV    HKD    0.345    0.345    0.35              370,000\\r\\n                               0.345    0.34     0.34              126,700\\r\\n    98 XINGFA ALUM      HKD    9.68     9.92      -                      -\\r\\n                               9.69     9.69      -                      -\\r\\n    99 WONG'S INT'L     HKD    2.04     2.10      -                      -\\r\\n                               2.04     2.00      -                      -\\r\\n   101 HANG LUNG PPT    HKD   14.80    15.00    15.12           15,755,163\\r\\n                              15.00    14.96    14.84          236,163,804\\r\\n   102 SUMMIT ASCENT    HKD TRADING SUSPENDED\\r\\n   103 SHOUGANG CENT    HKD    0.26     0.265    0.265             136,000\\r\\n                               0.265    0.255    0.255              34,720\\r\\n   104 ASIA COMM HOLD   HKD    0.234    0.21     0.238           8,910,000\\r\\n                               0.208    0.208    0.208           1,978,570\\r\\n   105 ASSO INT HOTELS  HKD   10.80      -        -                      -\\r\\n                              11.50    11.50      -                      -\\r\\n   106 LANDSEA PPT      HKD    0.221    0.228    0.22              100,000\\r\\n                               0.216    0.216    0.216              21,900\\r\\n   107 SICHUAN EXPRESS  HKD    2.00     2.01     2.04            2,702,000\\r\\n                               2.00     2.00     1.99            5,436,560\\r\\n   108 GR PROPERTIES    HKD    1.09     1.14     1.14            1,094,000\\r\\n                               1.14     1.12     1.08            1,210,000\\r\\n   110 CHINA FORTUNE    HKD    0.29     0.32      -                      -\\r\\n                               0.29     0.255     -                      -\\r\\n   111 CINDA INTL HLDG  HKD    0.39     0.395    0.39               22,000\\r\\n                               0.39     0.39     0.385               8,560\\r\\n   112 LERTHAI GROUP    HKD TRADING SUSPENDED\\r\\n   113 DICKSON CONCEPT  HKD    4.05     4.03     4.05               19,500\\r\\n                               4.03     3.99     4.03               78,800\\r\\n   114 HERALD HOLD      HKD    0.49     0.54      -                      -\\r\\n                               0.49     0.48      -                      -\\r\\n   115 GRAND FIELD GP   HKD    0.41     0.485     -                      -\\r\\n                               0.41     0.34      -                      -\\r\\n   116 CHOW SANG SANG   HKD    8.52     8.71     8.71              273,000\\r\\n                               8.69     8.69     8.52            2,360,300\\r\\n   117 TIANLI HOLDINGS  HKD    0.44     0.455     -                      -\\r\\n                               0.44     0.43      -                      -\\r\\n   118 COSMOS MACH      HKD    0.345    0.40     0.35                2,000\\r\\n                               0.35     0.34     0.35                  700\\r\\n   119 POLY PROPERTY    HKD    1.88     1.88     1.88            6,262,000\\r\\n                               1.87     1.87     1.86           11,716,780\\r\\n   120 COSMOPOL INT'L   HKD    1.64     1.49     1.59            1,456,000\\r\\n                               1.49     1.48     1.46            2,236,660\\r\\n\""
            ],
            "application/vnd.google.colaboratory.intrinsic+json": {
              "type": "string"
            }
          },
          "metadata": {},
          "execution_count": 212
        }
      ]
    },
    {
      "cell_type": "code",
      "source": [
        "# something unusual\n",
        "quotations[2].text.split('\\r\\n')[-1]"
      ],
      "metadata": {
        "colab": {
          "base_uri": "https://localhost:8080/",
          "height": 35
        },
        "id": "xj2JivXDFw2l",
        "outputId": "fdea1e98-c4b9-48e7-d95d-ffa57d566982"
      },
      "execution_count": 213,
      "outputs": [
        {
          "output_type": "execute_result",
          "data": {
            "text/plain": [
              "''"
            ],
            "application/vnd.google.colaboratory.intrinsic+json": {
              "type": "string"
            }
          },
          "metadata": {},
          "execution_count": 213
        }
      ]
    },
    {
      "cell_type": "code",
      "source": [
        "# desired headings\n",
        "headings = quotations[0].text.split('QUOTATIONS')[-1].split('\\r\\n\\r\\n')[1]\n",
        "headings"
      ],
      "metadata": {
        "colab": {
          "base_uri": "https://localhost:8080/",
          "height": 53
        },
        "id": "BdgfwBVVr4qN",
        "outputId": "2021b808-eee9-4627-8148-fc5e85351c5c"
      },
      "execution_count": 214,
      "outputs": [
        {
          "output_type": "execute_result",
          "data": {
            "text/plain": [
              "' CODE  NAME OF STOCK    CUR PRV.CLO./    ASK/    HIGH/      SHARES TRADED/\\r\\n                            CLOSING      BID     LOW        TURNOVER ($)'"
            ],
            "application/vnd.google.colaboratory.intrinsic+json": {
              "type": "string"
            }
          },
          "metadata": {},
          "execution_count": 214
        }
      ]
    },
    {
      "cell_type": "code",
      "source": [
        "# create a list for all quotation\n",
        "quotations_lists = []\n",
        "\n",
        "# processing of first item\n",
        "quotation_first_item = quotations[0].text.split('QUOTATIONS')[-1].split('\\r\\n\\r\\n')[2]\n",
        "\n",
        "# adding first item in quotations_lists\n",
        "quotations_lists += quotation_first_item.split('\\r\\n')[:-1]\n",
        "\n",
        "# adding remaining items in quotations_lists except last one\n",
        "for item in quotations[1:111]:\n",
        "    quotations_lists += item.text.split('\\r\\n')[:-1]\n",
        "\n",
        "# processing of last item\n",
        "quotation_last_item = quotations[111].text.split('\\r\\n-------------------------------------------------------------------------------')[0]\n",
        "\n",
        "# adding last item in quotations_lists\n",
        "quotations_lists += quotation_last_item.split('\\r\\n')"
      ],
      "metadata": {
        "id": "NplPAVf48ryn"
      },
      "execution_count": 215,
      "outputs": []
    },
    {
      "cell_type": "code",
      "source": [
        "len(quotations_lists)"
      ],
      "metadata": {
        "colab": {
          "base_uri": "https://localhost:8080/"
        },
        "id": "nTyBo5skEtCu",
        "outputId": "ca6c28f9-73e4-4537-c38a-aab1396734f0"
      },
      "execution_count": 216,
      "outputs": [
        {
          "output_type": "execute_result",
          "data": {
            "text/plain": [
              "33356"
            ]
          },
          "metadata": {},
          "execution_count": 216
        }
      ]
    },
    {
      "cell_type": "code",
      "source": [
        "quotations_lists[0:10]"
      ],
      "metadata": {
        "colab": {
          "base_uri": "https://localhost:8080/"
        },
        "id": "1WBPCzx4CUAu",
        "outputId": "24adec4b-9ecb-4f78-ad88-574548d350ef"
      },
      "execution_count": 217,
      "outputs": [
        {
          "output_type": "execute_result",
          "data": {
            "text/plain": [
              "['     1 CKH HOLDINGS     HKD   54.85    54.35    55.40            5,234,462',\n",
              " '                              54.35    54.30    54.25          286,201,169',\n",
              " '     2 CLP HOLDINGS     HKD   76.95    76.55    77.30            3,374,157',\n",
              " '                              76.50    76.50    76.40          258,528,175',\n",
              " '     3 HK & CHINA GAS   HKD    8.74     8.53     8.76           30,744,940',\n",
              " '                               8.52     8.52     8.51          264,009,852',\n",
              " '     4 WHARF HOLDINGS   HKD   25.15    25.25    25.40              683,860',\n",
              " '                              25.25    25.20    24.95           17,249,090',\n",
              " '     5 HSBC HOLDINGS    HKD   51.75    51.30    52.10           20,744,261',\n",
              " '                              51.25    51.25    51.00        1,069,075,134']"
            ]
          },
          "metadata": {},
          "execution_count": 217
        }
      ]
    },
    {
      "cell_type": "code",
      "source": [
        "def splited_list(item):\n",
        "\n",
        "    ### different types of item\n",
        "\n",
        "    # '50090#UB#MTUANRP2303N  HKD TRADING SUSPENDED'\n",
        "    # '40808 SHINSUN N2308    USD TRADING SUSPENDED'\n",
        "    # '709#GIORDANO INT'L   HKD TRADING HALTED'\n",
        "    # '50234#UB#JDCOMRP2302B  HKD    0.04     0.015    0.027           1,312,500'\n",
        "    # '50076 CS#MTUANRC2302M  HKD    0.155    0.175    0.176             175,000'\n",
        "    # '50062#BP#HSI  RP2210H  HKD    0.053    0.02     0.024          44,340,000'\n",
        "    # '40101 KM RT B2412      USD     N/A      -        -                      -'  \n",
        "    # '122 CROCODILE        HKD    0.34     0.39     0.405          12,245,000'\n",
        "    # '*  388 HKEX             HKD  352.20   361.40   362.80            8,347,757' \n",
        "\n",
        "    elements = item.split()\n",
        "    li = []\n",
        "    for elem in elements:\n",
        "        if '#' in elem:\n",
        "            li += elem.split('#')\n",
        "        else:\n",
        "            li.append(elem)\n",
        "    return li\n",
        "\n",
        "\n",
        "def suspended(li):\n",
        "    # sample list\n",
        "    # li = ['50105', 'UB', 'HSI', 'RP2211R', 'HKD', 'TRADING', 'SUSPENDED']\n",
        "\n",
        "    code = int(li[0])\n",
        "    nos  = ' '.join(li[1:-3])      # nos = Name of Stock\n",
        "    cur  = li[-3]\n",
        "\n",
        "    return code, nos, cur\n",
        "\n",
        "\n",
        "def check(x):\n",
        "    try:\n",
        "        elem = float(x)\n",
        "    except:\n",
        "        elem = x\n",
        "    return elem\n",
        "\n",
        "def check_lsit_last_item(x):\n",
        "    try:\n",
        "        elem = int(''.join(x.split(',')))\n",
        "    except:\n",
        "        elem = x\n",
        "    return elem\n",
        "\n",
        "def not_suspended(li_1, li_2):\n",
        "    # sample list\n",
        "    # li = ['50234', 'UB', 'JDCOMRP2302B', 'HKD', '0.04', '0.015', '0.027', '1,312,500']\n",
        "    # li = ['85987', 'CCB', 'B2304-R', 'CNY', 'N/A', '-', '-', '-']\n",
        "    \n",
        "    code = int(li_1[0])\n",
        "\n",
        "    nos  = ' '.join(li_1[1:-5])                   # nos = NAME OF STOCK\n",
        "    cur  = li_1[-5]\n",
        "\n",
        "    cpc  = check(li_1[-4])                   # cpc = CUR PRV.CLO. \n",
        "    cls = check(li_2[0])                # cls = CLOSING\n",
        "\n",
        "    ask  = check(li_1[-3])  \n",
        "    bid = check(li_2[-3])\n",
        "\n",
        "    high = check(li_1[-2]) \n",
        "    low = check(li_2[-2])\n",
        "\n",
        "    st = check_lsit_last_item(li_1[-1])     # st = SHARES TRADED\n",
        "    tnvr = check_lsit_last_item(li_2[-1])       # tnvr = TURNOVER\n",
        "\n",
        "\n",
        "    \n",
        "\n",
        "    return code, nos, cur, cpc, cls, ask, bid, high, low, st, tnvr\n"
      ],
      "metadata": {
        "id": "5D7ZfBJHSx_s"
      },
      "execution_count": 218,
      "outputs": []
    },
    {
      "cell_type": "code",
      "source": [
        "# total item in quotations_lists\n",
        "total_item = len(quotations_lists)\n",
        "\n",
        "final_list = []\n",
        "i = 0\n",
        "while (i< total_item):\n",
        "\n",
        "    item_1= quotations_lists[i]\n",
        "    list_1 = splited_list(item_1)\n",
        "\n",
        "    if '*' in list_1:\n",
        "        list_1.remove('*')\n",
        "        \n",
        "    if 'SUSPENDED' in list_1:\n",
        "        dic = {}\n",
        "        code, nos, cur = suspended(list_1)\n",
        "        dic['CODE'] = code\n",
        "        dic['NAME OF STOCK'] = nos\n",
        "        dic['CUR'] = cur\n",
        "\n",
        "        final_list.append(dic)\n",
        "        i+=1\n",
        "\n",
        "    if 'HALTED' in list_1:\n",
        "        dic = {}\n",
        "        code, nos, cur = suspended(list_1)\n",
        "        dic['CODE'] = code\n",
        "        dic['NAME OF STOCK'] = nos\n",
        "        dic['CUR'] = cur\n",
        "\n",
        "        final_list.append(dic)\n",
        "        i+=1\n",
        "\n",
        "\n",
        "    if 'SUSPENDED' not in list_1:\n",
        "        item_2 = quotations_lists[i+1]\n",
        "        list_2 = splited_list(item_2)\n",
        "        \n",
        "        dic = {}\n",
        "        \n",
        "        code, nos, cur, cpc, cls, ask, bid, high, low, st, tnvr = not_suspended(list_1, list_2)\n",
        "\n",
        "        dic['CODE'] = code\n",
        "        dic['NAME OF STOCK'] = nos\n",
        "        dic['CUR'] = cur\n",
        "        dic['CUR PRV.CLO.'] = cpc\n",
        "        dic['CLOSING'] = cls\n",
        "        dic['ASK'] = ask\n",
        "        dic['BID'] = bid\n",
        "        dic['HIGH'] = high\n",
        "        dic['LOW'] = low\n",
        "        dic['SHARES TRADED'] = st\n",
        "        dic['TURNOVER'] = tnvr\n",
        "\n",
        "        final_list.append(dic)\n",
        "        i +=2"
      ],
      "metadata": {
        "id": "bKVTXhzG7_ll"
      },
      "execution_count": 219,
      "outputs": []
    },
    {
      "cell_type": "code",
      "source": [
        "final_list[-1]"
      ],
      "metadata": {
        "colab": {
          "base_uri": "https://localhost:8080/"
        },
        "id": "B9CugFzkg_tt",
        "outputId": "66ed460b-4861-4d7e-fef9-88ac9d787fe3"
      },
      "execution_count": 220,
      "outputs": [
        {
          "output_type": "execute_result",
          "data": {
            "text/plain": [
              "{'CODE': 87001,\n",
              " 'NAME OF STOCK': 'HUI XIAN REIT',\n",
              " 'CUR': 'CNY',\n",
              " 'CUR PRV.CLO.': 1.02,\n",
              " 'CLOSING': 1.02,\n",
              " 'ASK': 1.02,\n",
              " 'BID': 1.01,\n",
              " 'HIGH': 1.02,\n",
              " 'LOW': 1.01,\n",
              " 'SHARES TRADED': 1366091,\n",
              " 'TURNOVER': 1381649}"
            ]
          },
          "metadata": {},
          "execution_count": 220
        }
      ]
    },
    {
      "cell_type": "code",
      "source": [
        "len(final_list)"
      ],
      "metadata": {
        "colab": {
          "base_uri": "https://localhost:8080/"
        },
        "id": "TAXlbgRD6PZX",
        "outputId": "9d54d2c6-ed75-4fb4-9869-8feb265b1f4f"
      },
      "execution_count": 221,
      "outputs": [
        {
          "output_type": "execute_result",
          "data": {
            "text/plain": [
              "16888"
            ]
          },
          "metadata": {},
          "execution_count": 221
        }
      ]
    },
    {
      "cell_type": "code",
      "source": [
        "# Creating Data Frame using pandas\n",
        "df = pd.DataFrame(final_list)"
      ],
      "metadata": {
        "id": "fpVtDHDS_DqP"
      },
      "execution_count": 222,
      "outputs": []
    },
    {
      "cell_type": "code",
      "source": [
        "df"
      ],
      "metadata": {
        "colab": {
          "base_uri": "https://localhost:8080/",
          "height": 424
        },
        "id": "ltM_Qo3_Nmv0",
        "outputId": "f1471f1b-bc8f-4b2a-8efc-1b024ebc5306"
      },
      "execution_count": 223,
      "outputs": [
        {
          "output_type": "execute_result",
          "data": {
            "text/plain": [
              "        CODE   NAME OF STOCK  CUR CUR PRV.CLO. CLOSING    ASK    BID  HIGH  \\\n",
              "0          1    CKH HOLDINGS  HKD        54.85   54.35  54.35   54.3  55.4   \n",
              "1          2    CLP HOLDINGS  HKD        76.95    76.5  76.55   76.5  77.3   \n",
              "2          3  HK & CHINA GAS  HKD         8.74    8.52   8.53   8.52  8.76   \n",
              "3          4  WHARF HOLDINGS  HKD        25.15   25.25  25.25   25.2  25.4   \n",
              "4          5   HSBC HOLDINGS  HKD        51.75   51.25   51.3  51.25  52.1   \n",
              "...      ...             ...  ...          ...     ...    ...    ...   ...   \n",
              "16883  86657     PRC B2207-R  CNY          N/A     N/A      -      -     -   \n",
              "16884  86658     PRC B2507-R  CNY          N/A     N/A      -      -     -   \n",
              "16885  86659     PRC B2309-R  CNY          N/A     N/A      -      -     -   \n",
              "16886  86660     PRC B2609-R  CNY          N/A     N/A      -      -     -   \n",
              "16887  87001   HUI XIAN REIT  CNY         1.02    1.02   1.02   1.01  1.02   \n",
              "\n",
              "         LOW SHARES TRADED    TURNOVER  \n",
              "0      54.25       5234462   286201169  \n",
              "1       76.4       3374157   258528175  \n",
              "2       8.51      30744940   264009852  \n",
              "3      24.95        683860    17249090  \n",
              "4       51.0      20744261  1069075134  \n",
              "...      ...           ...         ...  \n",
              "16883      -             -           -  \n",
              "16884      -             -           -  \n",
              "16885      -             -           -  \n",
              "16886      -             -           -  \n",
              "16887   1.01       1366091     1381649  \n",
              "\n",
              "[16888 rows x 11 columns]"
            ],
            "text/html": [
              "\n",
              "  <div id=\"df-194cbb9f-2057-46f3-a58b-8363bb3b8baa\">\n",
              "    <div class=\"colab-df-container\">\n",
              "      <div>\n",
              "<style scoped>\n",
              "    .dataframe tbody tr th:only-of-type {\n",
              "        vertical-align: middle;\n",
              "    }\n",
              "\n",
              "    .dataframe tbody tr th {\n",
              "        vertical-align: top;\n",
              "    }\n",
              "\n",
              "    .dataframe thead th {\n",
              "        text-align: right;\n",
              "    }\n",
              "</style>\n",
              "<table border=\"1\" class=\"dataframe\">\n",
              "  <thead>\n",
              "    <tr style=\"text-align: right;\">\n",
              "      <th></th>\n",
              "      <th>CODE</th>\n",
              "      <th>NAME OF STOCK</th>\n",
              "      <th>CUR</th>\n",
              "      <th>CUR PRV.CLO.</th>\n",
              "      <th>CLOSING</th>\n",
              "      <th>ASK</th>\n",
              "      <th>BID</th>\n",
              "      <th>HIGH</th>\n",
              "      <th>LOW</th>\n",
              "      <th>SHARES TRADED</th>\n",
              "      <th>TURNOVER</th>\n",
              "    </tr>\n",
              "  </thead>\n",
              "  <tbody>\n",
              "    <tr>\n",
              "      <th>0</th>\n",
              "      <td>1</td>\n",
              "      <td>CKH HOLDINGS</td>\n",
              "      <td>HKD</td>\n",
              "      <td>54.85</td>\n",
              "      <td>54.35</td>\n",
              "      <td>54.35</td>\n",
              "      <td>54.3</td>\n",
              "      <td>55.4</td>\n",
              "      <td>54.25</td>\n",
              "      <td>5234462</td>\n",
              "      <td>286201169</td>\n",
              "    </tr>\n",
              "    <tr>\n",
              "      <th>1</th>\n",
              "      <td>2</td>\n",
              "      <td>CLP HOLDINGS</td>\n",
              "      <td>HKD</td>\n",
              "      <td>76.95</td>\n",
              "      <td>76.5</td>\n",
              "      <td>76.55</td>\n",
              "      <td>76.5</td>\n",
              "      <td>77.3</td>\n",
              "      <td>76.4</td>\n",
              "      <td>3374157</td>\n",
              "      <td>258528175</td>\n",
              "    </tr>\n",
              "    <tr>\n",
              "      <th>2</th>\n",
              "      <td>3</td>\n",
              "      <td>HK &amp; CHINA GAS</td>\n",
              "      <td>HKD</td>\n",
              "      <td>8.74</td>\n",
              "      <td>8.52</td>\n",
              "      <td>8.53</td>\n",
              "      <td>8.52</td>\n",
              "      <td>8.76</td>\n",
              "      <td>8.51</td>\n",
              "      <td>30744940</td>\n",
              "      <td>264009852</td>\n",
              "    </tr>\n",
              "    <tr>\n",
              "      <th>3</th>\n",
              "      <td>4</td>\n",
              "      <td>WHARF HOLDINGS</td>\n",
              "      <td>HKD</td>\n",
              "      <td>25.15</td>\n",
              "      <td>25.25</td>\n",
              "      <td>25.25</td>\n",
              "      <td>25.2</td>\n",
              "      <td>25.4</td>\n",
              "      <td>24.95</td>\n",
              "      <td>683860</td>\n",
              "      <td>17249090</td>\n",
              "    </tr>\n",
              "    <tr>\n",
              "      <th>4</th>\n",
              "      <td>5</td>\n",
              "      <td>HSBC HOLDINGS</td>\n",
              "      <td>HKD</td>\n",
              "      <td>51.75</td>\n",
              "      <td>51.25</td>\n",
              "      <td>51.3</td>\n",
              "      <td>51.25</td>\n",
              "      <td>52.1</td>\n",
              "      <td>51.0</td>\n",
              "      <td>20744261</td>\n",
              "      <td>1069075134</td>\n",
              "    </tr>\n",
              "    <tr>\n",
              "      <th>...</th>\n",
              "      <td>...</td>\n",
              "      <td>...</td>\n",
              "      <td>...</td>\n",
              "      <td>...</td>\n",
              "      <td>...</td>\n",
              "      <td>...</td>\n",
              "      <td>...</td>\n",
              "      <td>...</td>\n",
              "      <td>...</td>\n",
              "      <td>...</td>\n",
              "      <td>...</td>\n",
              "    </tr>\n",
              "    <tr>\n",
              "      <th>16883</th>\n",
              "      <td>86657</td>\n",
              "      <td>PRC B2207-R</td>\n",
              "      <td>CNY</td>\n",
              "      <td>N/A</td>\n",
              "      <td>N/A</td>\n",
              "      <td>-</td>\n",
              "      <td>-</td>\n",
              "      <td>-</td>\n",
              "      <td>-</td>\n",
              "      <td>-</td>\n",
              "      <td>-</td>\n",
              "    </tr>\n",
              "    <tr>\n",
              "      <th>16884</th>\n",
              "      <td>86658</td>\n",
              "      <td>PRC B2507-R</td>\n",
              "      <td>CNY</td>\n",
              "      <td>N/A</td>\n",
              "      <td>N/A</td>\n",
              "      <td>-</td>\n",
              "      <td>-</td>\n",
              "      <td>-</td>\n",
              "      <td>-</td>\n",
              "      <td>-</td>\n",
              "      <td>-</td>\n",
              "    </tr>\n",
              "    <tr>\n",
              "      <th>16885</th>\n",
              "      <td>86659</td>\n",
              "      <td>PRC B2309-R</td>\n",
              "      <td>CNY</td>\n",
              "      <td>N/A</td>\n",
              "      <td>N/A</td>\n",
              "      <td>-</td>\n",
              "      <td>-</td>\n",
              "      <td>-</td>\n",
              "      <td>-</td>\n",
              "      <td>-</td>\n",
              "      <td>-</td>\n",
              "    </tr>\n",
              "    <tr>\n",
              "      <th>16886</th>\n",
              "      <td>86660</td>\n",
              "      <td>PRC B2609-R</td>\n",
              "      <td>CNY</td>\n",
              "      <td>N/A</td>\n",
              "      <td>N/A</td>\n",
              "      <td>-</td>\n",
              "      <td>-</td>\n",
              "      <td>-</td>\n",
              "      <td>-</td>\n",
              "      <td>-</td>\n",
              "      <td>-</td>\n",
              "    </tr>\n",
              "    <tr>\n",
              "      <th>16887</th>\n",
              "      <td>87001</td>\n",
              "      <td>HUI XIAN REIT</td>\n",
              "      <td>CNY</td>\n",
              "      <td>1.02</td>\n",
              "      <td>1.02</td>\n",
              "      <td>1.02</td>\n",
              "      <td>1.01</td>\n",
              "      <td>1.02</td>\n",
              "      <td>1.01</td>\n",
              "      <td>1366091</td>\n",
              "      <td>1381649</td>\n",
              "    </tr>\n",
              "  </tbody>\n",
              "</table>\n",
              "<p>16888 rows × 11 columns</p>\n",
              "</div>\n",
              "      <button class=\"colab-df-convert\" onclick=\"convertToInteractive('df-194cbb9f-2057-46f3-a58b-8363bb3b8baa')\"\n",
              "              title=\"Convert this dataframe to an interactive table.\"\n",
              "              style=\"display:none;\">\n",
              "        \n",
              "  <svg xmlns=\"http://www.w3.org/2000/svg\" height=\"24px\"viewBox=\"0 0 24 24\"\n",
              "       width=\"24px\">\n",
              "    <path d=\"M0 0h24v24H0V0z\" fill=\"none\"/>\n",
              "    <path d=\"M18.56 5.44l.94 2.06.94-2.06 2.06-.94-2.06-.94-.94-2.06-.94 2.06-2.06.94zm-11 1L8.5 8.5l.94-2.06 2.06-.94-2.06-.94L8.5 2.5l-.94 2.06-2.06.94zm10 10l.94 2.06.94-2.06 2.06-.94-2.06-.94-.94-2.06-.94 2.06-2.06.94z\"/><path d=\"M17.41 7.96l-1.37-1.37c-.4-.4-.92-.59-1.43-.59-.52 0-1.04.2-1.43.59L10.3 9.45l-7.72 7.72c-.78.78-.78 2.05 0 2.83L4 21.41c.39.39.9.59 1.41.59.51 0 1.02-.2 1.41-.59l7.78-7.78 2.81-2.81c.8-.78.8-2.07 0-2.86zM5.41 20L4 18.59l7.72-7.72 1.47 1.35L5.41 20z\"/>\n",
              "  </svg>\n",
              "      </button>\n",
              "      \n",
              "  <style>\n",
              "    .colab-df-container {\n",
              "      display:flex;\n",
              "      flex-wrap:wrap;\n",
              "      gap: 12px;\n",
              "    }\n",
              "\n",
              "    .colab-df-convert {\n",
              "      background-color: #E8F0FE;\n",
              "      border: none;\n",
              "      border-radius: 50%;\n",
              "      cursor: pointer;\n",
              "      display: none;\n",
              "      fill: #1967D2;\n",
              "      height: 32px;\n",
              "      padding: 0 0 0 0;\n",
              "      width: 32px;\n",
              "    }\n",
              "\n",
              "    .colab-df-convert:hover {\n",
              "      background-color: #E2EBFA;\n",
              "      box-shadow: 0px 1px 2px rgba(60, 64, 67, 0.3), 0px 1px 3px 1px rgba(60, 64, 67, 0.15);\n",
              "      fill: #174EA6;\n",
              "    }\n",
              "\n",
              "    [theme=dark] .colab-df-convert {\n",
              "      background-color: #3B4455;\n",
              "      fill: #D2E3FC;\n",
              "    }\n",
              "\n",
              "    [theme=dark] .colab-df-convert:hover {\n",
              "      background-color: #434B5C;\n",
              "      box-shadow: 0px 1px 3px 1px rgba(0, 0, 0, 0.15);\n",
              "      filter: drop-shadow(0px 1px 2px rgba(0, 0, 0, 0.3));\n",
              "      fill: #FFFFFF;\n",
              "    }\n",
              "  </style>\n",
              "\n",
              "      <script>\n",
              "        const buttonEl =\n",
              "          document.querySelector('#df-194cbb9f-2057-46f3-a58b-8363bb3b8baa button.colab-df-convert');\n",
              "        buttonEl.style.display =\n",
              "          google.colab.kernel.accessAllowed ? 'block' : 'none';\n",
              "\n",
              "        async function convertToInteractive(key) {\n",
              "          const element = document.querySelector('#df-194cbb9f-2057-46f3-a58b-8363bb3b8baa');\n",
              "          const dataTable =\n",
              "            await google.colab.kernel.invokeFunction('convertToInteractive',\n",
              "                                                     [key], {});\n",
              "          if (!dataTable) return;\n",
              "\n",
              "          const docLinkHtml = 'Like what you see? Visit the ' +\n",
              "            '<a target=\"_blank\" href=https://colab.research.google.com/notebooks/data_table.ipynb>data table notebook</a>'\n",
              "            + ' to learn more about interactive tables.';\n",
              "          element.innerHTML = '';\n",
              "          dataTable['output_type'] = 'display_data';\n",
              "          await google.colab.output.renderOutput(dataTable, element);\n",
              "          const docLink = document.createElement('div');\n",
              "          docLink.innerHTML = docLinkHtml;\n",
              "          element.appendChild(docLink);\n",
              "        }\n",
              "      </script>\n",
              "    </div>\n",
              "  </div>\n",
              "  "
            ]
          },
          "metadata": {},
          "execution_count": 223
        }
      ]
    },
    {
      "cell_type": "code",
      "source": [
        "# exporting data frame to CSV file\n",
        "df.to_csv('all_data.csv',index=False)"
      ],
      "metadata": {
        "id": "PJ5b7UltNoHE"
      },
      "execution_count": 224,
      "outputs": []
    },
    {
      "cell_type": "code",
      "source": [],
      "metadata": {
        "id": "V1NSnI8dOiI6"
      },
      "execution_count": 224,
      "outputs": []
    }
  ]
}